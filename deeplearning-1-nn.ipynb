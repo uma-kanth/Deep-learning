{
 "cells": [
  {
   "cell_type": "code",
   "execution_count": 1,
   "metadata": {},
   "outputs": [],
   "source": [
    "import numpy as np\n",
    "import pandas as pd"
   ]
  },
  {
   "cell_type": "code",
   "execution_count": 2,
   "metadata": {},
   "outputs": [],
   "source": [
    "x = np.array(([3,5],[5,1],[10,2]), dtype=float)\n",
    "y = np.array(([75],[85],[93]), dtype=float)\n"
   ]
  },
  {
   "cell_type": "code",
   "execution_count": 3,
   "metadata": {},
   "outputs": [],
   "source": [
    "class neural_networks(object):\n",
    "    def __init__(self):\n",
    "        self.inputlayersize = 2\n",
    "        self.outputlayersize = 1\n",
    "        self.hiddenlayersize = 3\n",
    "\n",
    "        self.w1 = np.random.randn(self.inputlayersize,self.hiddenlayersize)\n",
    "        self.w2 = np.random.randn(self.hiddenlayersize,self.outputlayersize)\n",
    "        \n",
    "    def forward(self,x):\n",
    "        self.z2 = np.dot(x,self.w1)\n",
    "        self.a2 = self.sigmoid(self.z2)\n",
    "        self.z3 = np.dot(self.a2,self.w2)\n",
    "        ypred = self.sigmoid(self.z3)\n",
    "        return ypred\n",
    "    \n",
    "    def sigmoid(self,z):\n",
    "        return 1/(1+np.exp(-z))"
   ]
  },
  {
   "cell_type": "code",
   "execution_count": 4,
   "metadata": {},
   "outputs": [],
   "source": [
    "nn = neural_networks()"
   ]
  },
  {
   "cell_type": "code",
   "execution_count": 5,
   "metadata": {},
   "outputs": [],
   "source": [
    "yhat = nn.forward(x)"
   ]
  },
  {
   "cell_type": "code",
   "execution_count": 6,
   "metadata": {},
   "outputs": [
    {
     "data": {
      "text/plain": [
       "array([[0.47600821, 0.51037423, 0.47963219]])"
      ]
     },
     "execution_count": 6,
     "metadata": {},
     "output_type": "execute_result"
    }
   ],
   "source": [
    "yhat.transpose()"
   ]
  },
  {
   "cell_type": "code",
   "execution_count": 7,
   "metadata": {},
   "outputs": [
    {
     "name": "stdout",
     "output_type": "stream",
     "text": [
      "[[ 1.66809811  0.20218138]\n",
      " [ 1.77217044 -0.88309265]\n",
      " [-0.10090464  0.59345366]]\n"
     ]
    }
   ],
   "source": [
    "print(np.random.randn(2,3).transpose())"
   ]
  },
  {
   "cell_type": "code",
   "execution_count": 8,
   "metadata": {},
   "outputs": [
    {
     "name": "stdout",
     "output_type": "stream",
     "text": [
      "[[0.44317001 0.6564124 ]\n",
      " [0.74176374 0.02812086]\n",
      " [0.38899452 0.69916989]]\n"
     ]
    }
   ],
   "source": [
    "print(np.random.rand(2,3).transpose())"
   ]
  }
 ],
 "metadata": {
  "kernelspec": {
   "display_name": "base",
   "language": "python",
   "name": "python3"
  },
  "language_info": {
   "codemirror_mode": {
    "name": "ipython",
    "version": 3
   },
   "file_extension": ".py",
   "mimetype": "text/x-python",
   "name": "python",
   "nbconvert_exporter": "python",
   "pygments_lexer": "ipython3",
   "version": "3.11.7"
  }
 },
 "nbformat": 4,
 "nbformat_minor": 2
}
